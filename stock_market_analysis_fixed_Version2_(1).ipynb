{
  "cells": [
    {
      "cell_type": "markdown",
      "metadata": {
        "id": "5liUHC6wBAim"
      },
      "source": [
        "# Indian Stock Market Analysis & Prediction System\n",
        "## Stock: 717503.BO (2014-2020)\n",
        "### Mini Project 7: Market Trends & Future Price Prediction"
      ]
    },
    {
      "cell_type": "code",
      "execution_count": 1,
      "metadata": {
        "colab": {
          "base_uri": "https://localhost:8080/"
        },
        "id": "poWCpxKBBAip",
        "outputId": "09a7d184-fb17-4c05-9bb0-0c2e4677ee6f"
      },
      "outputs": [
        {
          "output_type": "stream",
          "name": "stdout",
          "text": [
            "Requirement already satisfied: pandas in /usr/local/lib/python3.12/dist-packages (2.2.2)\n",
            "Requirement already satisfied: numpy in /usr/local/lib/python3.12/dist-packages (2.0.2)\n",
            "Requirement already satisfied: matplotlib in /usr/local/lib/python3.12/dist-packages (3.10.0)\n",
            "Requirement already satisfied: seaborn in /usr/local/lib/python3.12/dist-packages (0.13.2)\n",
            "Requirement already satisfied: scikit-learn in /usr/local/lib/python3.12/dist-packages (1.6.1)\n",
            "Requirement already satisfied: tensorflow in /usr/local/lib/python3.12/dist-packages (2.19.0)\n",
            "Requirement already satisfied: gradio in /usr/local/lib/python3.12/dist-packages (5.47.2)\n",
            "Requirement already satisfied: plotly in /usr/local/lib/python3.12/dist-packages (5.24.1)\n",
            "Requirement already satisfied: python-dateutil>=2.8.2 in /usr/local/lib/python3.12/dist-packages (from pandas) (2.9.0.post0)\n",
            "Requirement already satisfied: pytz>=2020.1 in /usr/local/lib/python3.12/dist-packages (from pandas) (2025.2)\n",
            "Requirement already satisfied: tzdata>=2022.7 in /usr/local/lib/python3.12/dist-packages (from pandas) (2025.2)\n",
            "Requirement already satisfied: contourpy>=1.0.1 in /usr/local/lib/python3.12/dist-packages (from matplotlib) (1.3.3)\n",
            "Requirement already satisfied: cycler>=0.10 in /usr/local/lib/python3.12/dist-packages (from matplotlib) (0.12.1)\n",
            "Requirement already satisfied: fonttools>=4.22.0 in /usr/local/lib/python3.12/dist-packages (from matplotlib) (4.60.1)\n",
            "Requirement already satisfied: kiwisolver>=1.3.1 in /usr/local/lib/python3.12/dist-packages (from matplotlib) (1.4.9)\n",
            "Requirement already satisfied: packaging>=20.0 in /usr/local/lib/python3.12/dist-packages (from matplotlib) (25.0)\n",
            "Requirement already satisfied: pillow>=8 in /usr/local/lib/python3.12/dist-packages (from matplotlib) (11.3.0)\n",
            "Requirement already satisfied: pyparsing>=2.3.1 in /usr/local/lib/python3.12/dist-packages (from matplotlib) (3.2.5)\n",
            "Requirement already satisfied: scipy>=1.6.0 in /usr/local/lib/python3.12/dist-packages (from scikit-learn) (1.16.2)\n",
            "Requirement already satisfied: joblib>=1.2.0 in /usr/local/lib/python3.12/dist-packages (from scikit-learn) (1.5.2)\n",
            "Requirement already satisfied: threadpoolctl>=3.1.0 in /usr/local/lib/python3.12/dist-packages (from scikit-learn) (3.6.0)\n",
            "Requirement already satisfied: absl-py>=1.0.0 in /usr/local/lib/python3.12/dist-packages (from tensorflow) (1.4.0)\n",
            "Requirement already satisfied: astunparse>=1.6.0 in /usr/local/lib/python3.12/dist-packages (from tensorflow) (1.6.3)\n",
            "Requirement already satisfied: flatbuffers>=24.3.25 in /usr/local/lib/python3.12/dist-packages (from tensorflow) (25.9.23)\n",
            "Requirement already satisfied: gast!=0.5.0,!=0.5.1,!=0.5.2,>=0.2.1 in /usr/local/lib/python3.12/dist-packages (from tensorflow) (0.6.0)\n",
            "Requirement already satisfied: google-pasta>=0.1.1 in /usr/local/lib/python3.12/dist-packages (from tensorflow) (0.2.0)\n",
            "Requirement already satisfied: libclang>=13.0.0 in /usr/local/lib/python3.12/dist-packages (from tensorflow) (18.1.1)\n",
            "Requirement already satisfied: opt-einsum>=2.3.2 in /usr/local/lib/python3.12/dist-packages (from tensorflow) (3.4.0)\n",
            "Requirement already satisfied: protobuf!=4.21.0,!=4.21.1,!=4.21.2,!=4.21.3,!=4.21.4,!=4.21.5,<6.0.0dev,>=3.20.3 in /usr/local/lib/python3.12/dist-packages (from tensorflow) (5.29.5)\n",
            "Requirement already satisfied: requests<3,>=2.21.0 in /usr/local/lib/python3.12/dist-packages (from tensorflow) (2.32.4)\n",
            "Requirement already satisfied: setuptools in /usr/local/lib/python3.12/dist-packages (from tensorflow) (75.2.0)\n",
            "Requirement already satisfied: six>=1.12.0 in /usr/local/lib/python3.12/dist-packages (from tensorflow) (1.17.0)\n",
            "Requirement already satisfied: termcolor>=1.1.0 in /usr/local/lib/python3.12/dist-packages (from tensorflow) (3.1.0)\n",
            "Requirement already satisfied: typing-extensions>=3.6.6 in /usr/local/lib/python3.12/dist-packages (from tensorflow) (4.15.0)\n",
            "Requirement already satisfied: wrapt>=1.11.0 in /usr/local/lib/python3.12/dist-packages (from tensorflow) (1.17.3)\n",
            "Requirement already satisfied: grpcio<2.0,>=1.24.3 in /usr/local/lib/python3.12/dist-packages (from tensorflow) (1.75.1)\n",
            "Requirement already satisfied: tensorboard~=2.19.0 in /usr/local/lib/python3.12/dist-packages (from tensorflow) (2.19.0)\n",
            "Requirement already satisfied: keras>=3.5.0 in /usr/local/lib/python3.12/dist-packages (from tensorflow) (3.10.0)\n",
            "Requirement already satisfied: h5py>=3.11.0 in /usr/local/lib/python3.12/dist-packages (from tensorflow) (3.14.0)\n",
            "Requirement already satisfied: ml-dtypes<1.0.0,>=0.5.1 in /usr/local/lib/python3.12/dist-packages (from tensorflow) (0.5.3)\n",
            "Requirement already satisfied: aiofiles<25.0,>=22.0 in /usr/local/lib/python3.12/dist-packages (from gradio) (24.1.0)\n",
            "Requirement already satisfied: anyio<5.0,>=3.0 in /usr/local/lib/python3.12/dist-packages (from gradio) (4.11.0)\n",
            "Requirement already satisfied: brotli>=1.1.0 in /usr/local/lib/python3.12/dist-packages (from gradio) (1.1.0)\n",
            "Requirement already satisfied: fastapi<1.0,>=0.115.2 in /usr/local/lib/python3.12/dist-packages (from gradio) (0.118.0)\n",
            "Requirement already satisfied: ffmpy in /usr/local/lib/python3.12/dist-packages (from gradio) (0.6.1)\n",
            "Requirement already satisfied: gradio-client==1.13.3 in /usr/local/lib/python3.12/dist-packages (from gradio) (1.13.3)\n",
            "Requirement already satisfied: groovy~=0.1 in /usr/local/lib/python3.12/dist-packages (from gradio) (0.1.2)\n",
            "Requirement already satisfied: httpx<1.0,>=0.24.1 in /usr/local/lib/python3.12/dist-packages (from gradio) (0.28.1)\n",
            "Requirement already satisfied: huggingface-hub<2.0,>=0.33.5 in /usr/local/lib/python3.12/dist-packages (from gradio) (0.35.3)\n",
            "Requirement already satisfied: jinja2<4.0 in /usr/local/lib/python3.12/dist-packages (from gradio) (3.1.6)\n",
            "Requirement already satisfied: markupsafe<4.0,>=2.0 in /usr/local/lib/python3.12/dist-packages (from gradio) (3.0.3)\n",
            "Requirement already satisfied: orjson~=3.0 in /usr/local/lib/python3.12/dist-packages (from gradio) (3.11.3)\n",
            "Requirement already satisfied: pydantic<2.12,>=2.0 in /usr/local/lib/python3.12/dist-packages (from gradio) (2.11.9)\n",
            "Requirement already satisfied: pydub in /usr/local/lib/python3.12/dist-packages (from gradio) (0.25.1)\n",
            "Requirement already satisfied: python-multipart>=0.0.18 in /usr/local/lib/python3.12/dist-packages (from gradio) (0.0.20)\n",
            "Requirement already satisfied: pyyaml<7.0,>=5.0 in /usr/local/lib/python3.12/dist-packages (from gradio) (6.0.3)\n",
            "Requirement already satisfied: ruff>=0.9.3 in /usr/local/lib/python3.12/dist-packages (from gradio) (0.13.2)\n",
            "Requirement already satisfied: safehttpx<0.2.0,>=0.1.6 in /usr/local/lib/python3.12/dist-packages (from gradio) (0.1.6)\n",
            "Requirement already satisfied: semantic-version~=2.0 in /usr/local/lib/python3.12/dist-packages (from gradio) (2.10.0)\n",
            "Requirement already satisfied: starlette<1.0,>=0.40.0 in /usr/local/lib/python3.12/dist-packages (from gradio) (0.48.0)\n",
            "Requirement already satisfied: tomlkit<0.14.0,>=0.12.0 in /usr/local/lib/python3.12/dist-packages (from gradio) (0.13.3)\n",
            "Requirement already satisfied: typer<1.0,>=0.12 in /usr/local/lib/python3.12/dist-packages (from gradio) (0.19.2)\n",
            "Requirement already satisfied: uvicorn>=0.14.0 in /usr/local/lib/python3.12/dist-packages (from gradio) (0.37.0)\n",
            "Requirement already satisfied: fsspec in /usr/local/lib/python3.12/dist-packages (from gradio-client==1.13.3->gradio) (2025.3.0)\n",
            "Requirement already satisfied: websockets<16.0,>=13.0 in /usr/local/lib/python3.12/dist-packages (from gradio-client==1.13.3->gradio) (15.0.1)\n",
            "Requirement already satisfied: tenacity>=6.2.0 in /usr/local/lib/python3.12/dist-packages (from plotly) (8.5.0)\n",
            "Requirement already satisfied: idna>=2.8 in /usr/local/lib/python3.12/dist-packages (from anyio<5.0,>=3.0->gradio) (3.10)\n",
            "Requirement already satisfied: sniffio>=1.1 in /usr/local/lib/python3.12/dist-packages (from anyio<5.0,>=3.0->gradio) (1.3.1)\n",
            "Requirement already satisfied: wheel<1.0,>=0.23.0 in /usr/local/lib/python3.12/dist-packages (from astunparse>=1.6.0->tensorflow) (0.45.1)\n",
            "Requirement already satisfied: certifi in /usr/local/lib/python3.12/dist-packages (from httpx<1.0,>=0.24.1->gradio) (2025.8.3)\n",
            "Requirement already satisfied: httpcore==1.* in /usr/local/lib/python3.12/dist-packages (from httpx<1.0,>=0.24.1->gradio) (1.0.9)\n",
            "Requirement already satisfied: h11>=0.16 in /usr/local/lib/python3.12/dist-packages (from httpcore==1.*->httpx<1.0,>=0.24.1->gradio) (0.16.0)\n",
            "Requirement already satisfied: filelock in /usr/local/lib/python3.12/dist-packages (from huggingface-hub<2.0,>=0.33.5->gradio) (3.19.1)\n",
            "Requirement already satisfied: tqdm>=4.42.1 in /usr/local/lib/python3.12/dist-packages (from huggingface-hub<2.0,>=0.33.5->gradio) (4.67.1)\n",
            "Requirement already satisfied: hf-xet<2.0.0,>=1.1.3 in /usr/local/lib/python3.12/dist-packages (from huggingface-hub<2.0,>=0.33.5->gradio) (1.1.10)\n",
            "Requirement already satisfied: rich in /usr/local/lib/python3.12/dist-packages (from keras>=3.5.0->tensorflow) (13.9.4)\n",
            "Requirement already satisfied: namex in /usr/local/lib/python3.12/dist-packages (from keras>=3.5.0->tensorflow) (0.1.0)\n",
            "Requirement already satisfied: optree in /usr/local/lib/python3.12/dist-packages (from keras>=3.5.0->tensorflow) (0.17.0)\n",
            "Requirement already satisfied: annotated-types>=0.6.0 in /usr/local/lib/python3.12/dist-packages (from pydantic<2.12,>=2.0->gradio) (0.7.0)\n",
            "Requirement already satisfied: pydantic-core==2.33.2 in /usr/local/lib/python3.12/dist-packages (from pydantic<2.12,>=2.0->gradio) (2.33.2)\n",
            "Requirement already satisfied: typing-inspection>=0.4.0 in /usr/local/lib/python3.12/dist-packages (from pydantic<2.12,>=2.0->gradio) (0.4.2)\n",
            "Requirement already satisfied: charset_normalizer<4,>=2 in /usr/local/lib/python3.12/dist-packages (from requests<3,>=2.21.0->tensorflow) (3.4.3)\n",
            "Requirement already satisfied: urllib3<3,>=1.21.1 in /usr/local/lib/python3.12/dist-packages (from requests<3,>=2.21.0->tensorflow) (2.5.0)\n",
            "Requirement already satisfied: markdown>=2.6.8 in /usr/local/lib/python3.12/dist-packages (from tensorboard~=2.19.0->tensorflow) (3.9)\n",
            "Requirement already satisfied: tensorboard-data-server<0.8.0,>=0.7.0 in /usr/local/lib/python3.12/dist-packages (from tensorboard~=2.19.0->tensorflow) (0.7.2)\n",
            "Requirement already satisfied: werkzeug>=1.0.1 in /usr/local/lib/python3.12/dist-packages (from tensorboard~=2.19.0->tensorflow) (3.1.3)\n",
            "Requirement already satisfied: click>=8.0.0 in /usr/local/lib/python3.12/dist-packages (from typer<1.0,>=0.12->gradio) (8.3.0)\n",
            "Requirement already satisfied: shellingham>=1.3.0 in /usr/local/lib/python3.12/dist-packages (from typer<1.0,>=0.12->gradio) (1.5.4)\n",
            "Requirement already satisfied: markdown-it-py>=2.2.0 in /usr/local/lib/python3.12/dist-packages (from rich->keras>=3.5.0->tensorflow) (4.0.0)\n",
            "Requirement already satisfied: pygments<3.0.0,>=2.13.0 in /usr/local/lib/python3.12/dist-packages (from rich->keras>=3.5.0->tensorflow) (2.19.2)\n",
            "Requirement already satisfied: mdurl~=0.1 in /usr/local/lib/python3.12/dist-packages (from markdown-it-py>=2.2.0->rich->keras>=3.5.0->tensorflow) (0.1.2)\n"
          ]
        }
      ],
      "source": [
        "# Install required packages\n",
        "!pip install pandas numpy matplotlib seaborn scikit-learn tensorflow gradio plotly"
      ]
    },
    {
      "cell_type": "code",
      "execution_count": 2,
      "metadata": {
        "colab": {
          "base_uri": "https://localhost:8080/"
        },
        "id": "29gSJbf6BAiq",
        "outputId": "f6d44247-1fad-4cb3-d28a-d9a66fcb1c1a"
      },
      "outputs": [
        {
          "output_type": "stream",
          "name": "stdout",
          "text": [
            "All libraries imported successfully!\n"
          ]
        }
      ],
      "source": [
        "# Import libraries\n",
        "import pandas as pd\n",
        "import numpy as np\n",
        "import matplotlib.pyplot as plt\n",
        "import seaborn as sns\n",
        "import plotly.graph_objects as go\n",
        "import plotly.express as px\n",
        "from plotly.subplots import make_subplots\n",
        "import gradio as gr\n",
        "from datetime import datetime, timedelta\n",
        "import warnings\n",
        "warnings.filterwarnings('ignore')\n",
        "\n",
        "from sklearn.preprocessing import MinMaxScaler\n",
        "from sklearn.model_selection import train_test_split\n",
        "from sklearn.metrics import mean_squared_error, mean_absolute_error, r2_score\n",
        "from sklearn.ensemble import RandomForestRegressor\n",
        "\n",
        "import tensorflow as tf\n",
        "from tensorflow.keras.models import Sequential\n",
        "from tensorflow.keras.layers import LSTM, Dense, Dropout\n",
        "from tensorflow.keras.callbacks import EarlyStopping\n",
        "\n",
        "print(\"All libraries imported successfully!\")"
      ]
    },
    {
      "cell_type": "code",
      "execution_count": 3,
      "metadata": {
        "colab": {
          "base_uri": "https://localhost:8080/"
        },
        "id": "9yU_63fLBAir",
        "outputId": "9cb3d884-0aed-45bb-9893-73c2216d7268"
      },
      "outputs": [
        {
          "output_type": "stream",
          "name": "stdout",
          "text": [
            "Dataset Shape: (1565, 7)\n",
            "\n",
            "First 5 rows:\n",
            "         Date  Open  High  Low  Close  Adj Close    Volume\n",
            "0  2014-03-19   8.1   8.1  8.1    8.1   5.443645      3080\n",
            "1  2014-03-20   6.5   7.8  6.5    7.5   5.040412  39413222\n",
            "2  2014-03-21   7.5   7.6  7.4    7.5   5.040412   1352554\n",
            "3  2014-03-24   7.5   7.6  7.1    7.3   4.906001  10788655\n",
            "4  2014-03-25   7.4   7.8  7.3    7.4   4.973207   4483967\n"
          ]
        }
      ],
      "source": [
        "# Load the dataset\n",
        "df = pd.read_csv('717503.BO.csv')\n",
        "print(\"Dataset Shape:\", df.shape)\n",
        "print(\"\\nFirst 5 rows:\")\n",
        "print(df.head())"
      ]
    },
    {
      "cell_type": "code",
      "execution_count": 4,
      "metadata": {
        "colab": {
          "base_uri": "https://localhost:8080/"
        },
        "id": "5lSAsavBBAir",
        "outputId": "6db33af9-717c-4caf-9f99-d009103ac7a7"
      },
      "outputs": [
        {
          "output_type": "stream",
          "name": "stdout",
          "text": [
            "Data preprocessing completed!\n"
          ]
        }
      ],
      "source": [
        "# Data Preprocessing\n",
        "def preprocess_data(df):\n",
        "    df['Date'] = pd.to_datetime(df['Date'])\n",
        "    df = df.sort_values('Date').reset_index(drop=True)\n",
        "\n",
        "    df['Year'] = df['Date'].dt.year\n",
        "    df['Month'] = df['Date'].dt.month\n",
        "    df['Day'] = df['Date'].dt.day\n",
        "    df['DayOfWeek'] = df['Date'].dt.dayofweek\n",
        "    df['Quarter'] = df['Date'].dt.quarter\n",
        "\n",
        "    df['Daily_Return'] = df['Close'].pct_change()\n",
        "    df['Price_Range'] = df['High'] - df['Low']\n",
        "    df['Price_Change'] = df['Close'] - df['Open']\n",
        "\n",
        "    df['MA_7'] = df['Close'].rolling(window=7).mean()\n",
        "    df['MA_21'] = df['Close'].rolling(window=21).mean()\n",
        "    df['MA_50'] = df['Close'].rolling(window=50).mean()\n",
        "    df['MA_200'] = df['Close'].rolling(window=200).mean()\n",
        "\n",
        "    df['EMA_12'] = df['Close'].ewm(span=12).mean()\n",
        "    df['EMA_26'] = df['Close'].ewm(span=26).mean()\n",
        "\n",
        "    df['MACD'] = df['EMA_12'] - df['EMA_26']\n",
        "    df['Signal_Line'] = df['MACD'].ewm(span=9).mean()\n",
        "\n",
        "    delta = df['Close'].diff()\n",
        "    gain = (delta.where(delta > 0, 0)).rolling(window=14).mean()\n",
        "    loss = (-delta.where(delta < 0, 0)).rolling(window=14).mean()\n",
        "    rs = gain / loss\n",
        "    df['RSI'] = 100 - (100 / (1 + rs))\n",
        "\n",
        "    df['BB_Middle'] = df['Close'].rolling(window=20).mean()\n",
        "    df['BB_Upper'] = df['BB_Middle'] + 2 * df['Close'].rolling(window=20).std()\n",
        "    df['BB_Lower'] = df['BB_Middle'] - 2 * df['Close'].rolling(window=20).std()\n",
        "\n",
        "    df['Volatility'] = df['Daily_Return'].rolling(window=21).std()\n",
        "\n",
        "    return df\n",
        "\n",
        "df = preprocess_data(df)\n",
        "print(\"Data preprocessing completed!\")"
      ]
    },
    {
      "cell_type": "code",
      "execution_count": 5,
      "metadata": {
        "colab": {
          "base_uri": "https://localhost:8080/"
        },
        "id": "awEJDw-NBAis",
        "outputId": "6103785e-0db0-42fc-b326-9d5712f3addb"
      },
      "outputs": [
        {
          "output_type": "stream",
          "name": "stdout",
          "text": [
            "Trend detection completed!\n"
          ]
        }
      ],
      "source": [
        "# Detect Market Trends\n",
        "def detect_market_trends(df):\n",
        "    df['Trend'] = 'Neutral'\n",
        "    bullish_mask = (df['Close'] > df['MA_50']) & (df['MA_50'] > df['MA_200'])\n",
        "    df.loc[bullish_mask, 'Trend'] = 'Bullish'\n",
        "    bearish_mask = (df['Close'] < df['MA_50']) & (df['MA_50'] < df['MA_200'])\n",
        "    df.loc[bearish_mask, 'Trend'] = 'Bearish'\n",
        "    return df\n",
        "\n",
        "df = detect_market_trends(df)\n",
        "print(\"Trend detection completed!\")"
      ]
    },
    {
      "cell_type": "code",
      "execution_count": 6,
      "metadata": {
        "colab": {
          "base_uri": "https://localhost:8080/"
        },
        "id": "D0bKO4j1BAis",
        "outputId": "8e2fceaa-184f-492d-d401-41a940a2053a"
      },
      "outputs": [
        {
          "output_type": "stream",
          "name": "stdout",
          "text": [
            "Training samples: 1092, Testing samples: 274\n"
          ]
        }
      ],
      "source": [
        "# Prepare ML Data\n",
        "def prepare_ml_data(df):\n",
        "    df_clean = df.dropna().copy()\n",
        "    features = ['Open', 'High', 'Low', 'Volume', 'MA_7', 'MA_21', 'MA_50', 'RSI', 'MACD', 'Volatility', 'Price_Range']\n",
        "    X = df_clean[features].values\n",
        "    y = df_clean['Close'].values\n",
        "\n",
        "    scaler_X = MinMaxScaler()\n",
        "    scaler_y = MinMaxScaler()\n",
        "    X_scaled = scaler_X.fit_transform(X)\n",
        "    y_scaled = scaler_y.fit_transform(y.reshape(-1, 1))\n",
        "\n",
        "    return X_scaled, y_scaled, scaler_X, scaler_y, df_clean\n",
        "\n",
        "X, y, scaler_X, scaler_y, df_clean = prepare_ml_data(df)\n",
        "split_idx = int(len(X) * 0.8)\n",
        "X_train, X_test = X[:split_idx], X[split_idx:]\n",
        "y_train, y_test = y[:split_idx], y[split_idx:]\n",
        "print(f\"Training samples: {len(X_train)}, Testing samples: {len(X_test)}\")"
      ]
    },
    {
      "cell_type": "code",
      "execution_count": 7,
      "metadata": {
        "colab": {
          "base_uri": "https://localhost:8080/"
        },
        "id": "TbmeyuRCBAit",
        "outputId": "784bb9e4-6f97-400e-fb79-9f9a7eb2fbcd"
      },
      "outputs": [
        {
          "output_type": "stream",
          "name": "stdout",
          "text": [
            "Training Random Forest...\n",
            "RF RMSE: 0.9955, MAE: 0.5487, R²: -0.0986\n"
          ]
        }
      ],
      "source": [
        "# Train Random Forest\n",
        "print(\"Training Random Forest...\")\n",
        "rf_model = RandomForestRegressor(n_estimators=100, random_state=42, n_jobs=-1)\n",
        "rf_model.fit(X_train, y_train.ravel())\n",
        "\n",
        "y_pred_test_rf = rf_model.predict(X_test)\n",
        "y_pred_test_rf = scaler_y.inverse_transform(y_pred_test_rf.reshape(-1, 1))\n",
        "y_test_actual = scaler_y.inverse_transform(y_test)\n",
        "\n",
        "rf_test_rmse = np.sqrt(mean_squared_error(y_test_actual, y_pred_test_rf))\n",
        "rf_test_mae = mean_absolute_error(y_test_actual, y_pred_test_rf)\n",
        "rf_test_r2 = r2_score(y_test_actual, y_pred_test_rf)\n",
        "print(f\"RF RMSE: {rf_test_rmse:.4f}, MAE: {rf_test_mae:.4f}, R²: {rf_test_r2:.4f}\")"
      ]
    },
    {
      "cell_type": "code",
      "execution_count": 8,
      "metadata": {
        "colab": {
          "base_uri": "https://localhost:8080/"
        },
        "id": "FLJM_aSgBAit",
        "outputId": "9b81a1d6-1df0-452b-cbdc-1caa4455f50f"
      },
      "outputs": [
        {
          "output_type": "stream",
          "name": "stdout",
          "text": [
            "LSTM Training: 1044, Testing: 262\n"
          ]
        }
      ],
      "source": [
        "# Prepare LSTM Data\n",
        "def create_lstm_dataset(X, y, time_steps=60):\n",
        "    Xs, ys = [], []\n",
        "    for i in range(len(X) - time_steps):\n",
        "        Xs.append(X[i:(i + time_steps)])\n",
        "        ys.append(y[i + time_steps])\n",
        "    return np.array(Xs), np.array(ys)\n",
        "\n",
        "time_steps = 60\n",
        "X_lstm, y_lstm = create_lstm_dataset(X, y, time_steps)\n",
        "split_idx = int(len(X_lstm) * 0.8)\n",
        "X_train_lstm, X_test_lstm = X_lstm[:split_idx], X_lstm[split_idx:]\n",
        "y_train_lstm, y_test_lstm = y_lstm[:split_idx], y_lstm[split_idx:]\n",
        "print(f\"LSTM Training: {len(X_train_lstm)}, Testing: {len(X_test_lstm)}\")"
      ]
    },
    {
      "cell_type": "code",
      "execution_count": 9,
      "metadata": {
        "colab": {
          "base_uri": "https://localhost:8080/"
        },
        "id": "N03EQ1IkBAit",
        "outputId": "95d54d65-1873-471f-ee14-0187123e5def"
      },
      "outputs": [
        {
          "output_type": "stream",
          "name": "stdout",
          "text": [
            "Building LSTM Model...\n",
            "Training LSTM...\n",
            "Epoch 1/50\n",
            "\u001b[1m33/33\u001b[0m \u001b[32m━━━━━━━━━━━━━━━━━━━━\u001b[0m\u001b[37m\u001b[0m \u001b[1m9s\u001b[0m 102ms/step - loss: 0.1329 - mae: 0.2695 - val_loss: 0.0319 - val_mae: 0.1677\n",
            "Epoch 2/50\n",
            "\u001b[1m33/33\u001b[0m \u001b[32m━━━━━━━━━━━━━━━━━━━━\u001b[0m\u001b[37m\u001b[0m \u001b[1m4s\u001b[0m 86ms/step - loss: 0.0149 - mae: 0.0970 - val_loss: 0.0158 - val_mae: 0.1153\n",
            "Epoch 3/50\n",
            "\u001b[1m33/33\u001b[0m \u001b[32m━━━━━━━━━━━━━━━━━━━━\u001b[0m\u001b[37m\u001b[0m \u001b[1m4s\u001b[0m 115ms/step - loss: 0.0100 - mae: 0.0790 - val_loss: 0.0055 - val_mae: 0.0435\n",
            "Epoch 4/50\n",
            "\u001b[1m33/33\u001b[0m \u001b[32m━━━━━━━━━━━━━━━━━━━━\u001b[0m\u001b[37m\u001b[0m \u001b[1m3s\u001b[0m 81ms/step - loss: 0.0080 - mae: 0.0699 - val_loss: 0.0045 - val_mae: 0.0412\n",
            "Epoch 5/50\n",
            "\u001b[1m33/33\u001b[0m \u001b[32m━━━━━━━━━━━━━━━━━━━━\u001b[0m\u001b[37m\u001b[0m \u001b[1m3s\u001b[0m 86ms/step - loss: 0.0084 - mae: 0.0742 - val_loss: 0.0039 - val_mae: 0.0424\n",
            "Epoch 6/50\n",
            "\u001b[1m33/33\u001b[0m \u001b[32m━━━━━━━━━━━━━━━━━━━━\u001b[0m\u001b[37m\u001b[0m \u001b[1m3s\u001b[0m 83ms/step - loss: 0.0071 - mae: 0.0659 - val_loss: 0.0030 - val_mae: 0.0325\n",
            "Epoch 7/50\n",
            "\u001b[1m33/33\u001b[0m \u001b[32m━━━━━━━━━━━━━━━━━━━━\u001b[0m\u001b[37m\u001b[0m \u001b[1m5s\u001b[0m 81ms/step - loss: 0.0065 - mae: 0.0627 - val_loss: 0.0046 - val_mae: 0.0546\n",
            "Epoch 8/50\n",
            "\u001b[1m33/33\u001b[0m \u001b[32m━━━━━━━━━━━━━━━━━━━━\u001b[0m\u001b[37m\u001b[0m \u001b[1m3s\u001b[0m 85ms/step - loss: 0.0070 - mae: 0.0663 - val_loss: 0.0034 - val_mae: 0.0425\n",
            "Epoch 9/50\n",
            "\u001b[1m33/33\u001b[0m \u001b[32m━━━━━━━━━━━━━━━━━━━━\u001b[0m\u001b[37m\u001b[0m \u001b[1m3s\u001b[0m 82ms/step - loss: 0.0057 - mae: 0.0582 - val_loss: 0.0032 - val_mae: 0.0389\n",
            "Epoch 10/50\n",
            "\u001b[1m33/33\u001b[0m \u001b[32m━━━━━━━━━━━━━━━━━━━━\u001b[0m\u001b[37m\u001b[0m \u001b[1m3s\u001b[0m 100ms/step - loss: 0.0075 - mae: 0.0683 - val_loss: 0.0026 - val_mae: 0.0292\n",
            "Epoch 11/50\n",
            "\u001b[1m33/33\u001b[0m \u001b[32m━━━━━━━━━━━━━━━━━━━━\u001b[0m\u001b[37m\u001b[0m \u001b[1m5s\u001b[0m 84ms/step - loss: 0.0066 - mae: 0.0637 - val_loss: 0.0032 - val_mae: 0.0395\n",
            "Epoch 12/50\n",
            "\u001b[1m33/33\u001b[0m \u001b[32m━━━━━━━━━━━━━━━━━━━━\u001b[0m\u001b[37m\u001b[0m \u001b[1m3s\u001b[0m 83ms/step - loss: 0.0058 - mae: 0.0593 - val_loss: 0.0053 - val_mae: 0.0651\n",
            "Epoch 13/50\n",
            "\u001b[1m33/33\u001b[0m \u001b[32m━━━━━━━━━━━━━━━━━━━━\u001b[0m\u001b[37m\u001b[0m \u001b[1m3s\u001b[0m 83ms/step - loss: 0.0063 - mae: 0.0623 - val_loss: 0.0049 - val_mae: 0.0587\n",
            "Epoch 14/50\n",
            "\u001b[1m33/33\u001b[0m \u001b[32m━━━━━━━━━━━━━━━━━━━━\u001b[0m\u001b[37m\u001b[0m \u001b[1m4s\u001b[0m 123ms/step - loss: 0.0057 - mae: 0.0587 - val_loss: 0.0041 - val_mae: 0.0520\n",
            "Epoch 15/50\n",
            "\u001b[1m33/33\u001b[0m \u001b[32m━━━━━━━━━━━━━━━━━━━━\u001b[0m\u001b[37m\u001b[0m \u001b[1m3s\u001b[0m 87ms/step - loss: 0.0057 - mae: 0.0585 - val_loss: 0.0050 - val_mae: 0.0615\n",
            "Epoch 16/50\n",
            "\u001b[1m33/33\u001b[0m \u001b[32m━━━━━━━━━━━━━━━━━━━━\u001b[0m\u001b[37m\u001b[0m \u001b[1m3s\u001b[0m 87ms/step - loss: 0.0051 - mae: 0.0565 - val_loss: 0.0027 - val_mae: 0.0314\n",
            "Epoch 17/50\n",
            "\u001b[1m33/33\u001b[0m \u001b[32m━━━━━━━━━━━━━━━━━━━━\u001b[0m\u001b[37m\u001b[0m \u001b[1m3s\u001b[0m 88ms/step - loss: 0.0051 - mae: 0.0550 - val_loss: 0.0044 - val_mae: 0.0539\n",
            "Epoch 18/50\n",
            "\u001b[1m33/33\u001b[0m \u001b[32m━━━━━━━━━━━━━━━━━━━━\u001b[0m\u001b[37m\u001b[0m \u001b[1m5s\u001b[0m 84ms/step - loss: 0.0062 - mae: 0.0622 - val_loss: 0.0029 - val_mae: 0.0313\n",
            "Epoch 19/50\n",
            "\u001b[1m33/33\u001b[0m \u001b[32m━━━━━━━━━━━━━━━━━━━━\u001b[0m\u001b[37m\u001b[0m \u001b[1m5s\u001b[0m 87ms/step - loss: 0.0054 - mae: 0.0575 - val_loss: 0.0048 - val_mae: 0.0588\n",
            "Epoch 20/50\n",
            "\u001b[1m33/33\u001b[0m \u001b[32m━━━━━━━━━━━━━━━━━━━━\u001b[0m\u001b[37m\u001b[0m \u001b[1m6s\u001b[0m 115ms/step - loss: 0.0048 - mae: 0.0539 - val_loss: 0.0048 - val_mae: 0.0585\n"
          ]
        }
      ],
      "source": [
        "# Build and Train LSTM\n",
        "print(\"Building LSTM Model...\")\n",
        "lstm_model = Sequential([\n",
        "    LSTM(50, return_sequences=True, input_shape=(time_steps, X.shape[1])),\n",
        "    Dropout(0.2),\n",
        "    LSTM(50, return_sequences=True),\n",
        "    Dropout(0.2),\n",
        "    LSTM(50),\n",
        "    Dropout(0.2),\n",
        "    Dense(1)\n",
        "])\n",
        "\n",
        "lstm_model.compile(optimizer='adam', loss='mse', metrics=['mae'])\n",
        "early_stop = EarlyStopping(monitor='val_loss', patience=10, restore_best_weights=True)\n",
        "\n",
        "print(\"Training LSTM...\")\n",
        "history = lstm_model.fit(X_train_lstm, y_train_lstm, validation_data=(X_test_lstm, y_test_lstm), epochs=50, batch_size=32, callbacks=[early_stop], verbose=1)"
      ]
    },
    {
      "cell_type": "code",
      "execution_count": 10,
      "metadata": {
        "colab": {
          "base_uri": "https://localhost:8080/"
        },
        "id": "DRC1U6KjBAiu",
        "outputId": "7fc62a61-6a27-405e-c090-206d17a6c523"
      },
      "outputs": [
        {
          "output_type": "stream",
          "name": "stdout",
          "text": [
            "\u001b[1m9/9\u001b[0m \u001b[32m━━━━━━━━━━━━━━━━━━━━\u001b[0m\u001b[37m\u001b[0m \u001b[1m1s\u001b[0m 73ms/step\n",
            "LSTM RMSE: 0.3688, MAE: 0.2116, R²: 0.8545\n"
          ]
        }
      ],
      "source": [
        "# Evaluate LSTM\n",
        "y_pred_test_lstm = lstm_model.predict(X_test_lstm)\n",
        "y_pred_test_lstm = scaler_y.inverse_transform(y_pred_test_lstm)\n",
        "y_test_lstm_actual = scaler_y.inverse_transform(y_test_lstm)\n",
        "\n",
        "lstm_test_rmse = np.sqrt(mean_squared_error(y_test_lstm_actual, y_pred_test_lstm))\n",
        "lstm_test_mae = mean_absolute_error(y_test_lstm_actual, y_pred_test_lstm)\n",
        "lstm_test_r2 = r2_score(y_test_lstm_actual, y_pred_test_lstm)\n",
        "print(f\"LSTM RMSE: {lstm_test_rmse:.4f}, MAE: {lstm_test_mae:.4f}, R²: {lstm_test_r2:.4f}\")"
      ]
    },
    {
      "cell_type": "code",
      "execution_count": 11,
      "metadata": {
        "id": "sssxETtNBAiu"
      },
      "outputs": [],
      "source": [
        "# Prediction Functions\n",
        "def predict_future_prices(model, last_sequence, scaler_y, days=30):\n",
        "    future_predictions = []\n",
        "    current_sequence = last_sequence.copy()\n",
        "\n",
        "    for _ in range(days):\n",
        "        pred = model.predict(current_sequence.reshape(1, time_steps, -1), verbose=0)\n",
        "        future_predictions.append(pred[0, 0])\n",
        "        current_sequence = np.roll(current_sequence, -1, axis=0)\n",
        "        current_sequence[-1, 0] = pred[0, 0]\n",
        "\n",
        "    return scaler_y.inverse_transform(np.array(future_predictions).reshape(-1, 1))"
      ]
    },
    {
      "cell_type": "code",
      "execution_count": 12,
      "metadata": {
        "id": "J_Rhy21qBAiu"
      },
      "outputs": [],
      "source": [
        "# Generate Insights Function\n",
        "def generate_insights(df):\n",
        "    insights = []\n",
        "    start_price = df['Close'].iloc[0]\n",
        "    end_price = df['Close'].iloc[-1]\n",
        "    total_return = ((end_price - start_price) / start_price) * 100\n",
        "\n",
        "    insights.append(\"## 📊 Overall Performance\\n\")\n",
        "    insights.append(f\"- **Total Return:** {total_return:.2f}%\")\n",
        "    insights.append(f\"- **Start Price (2014):** ₹{start_price:.2f}\")\n",
        "    insights.append(f\"- **Current Price (2020):** ₹{end_price:.2f}\\n\")\n",
        "\n",
        "    avg_volatility = df['Volatility'].mean()\n",
        "    risk_level = 'High' if avg_volatility > 0.02 else 'Moderate' if avg_volatility > 0.01 else 'Low'\n",
        "    insights.append(\"## 📉 Risk Assessment\\n\")\n",
        "    insights.append(f\"- **Average Volatility:** {avg_volatility:.4f}\")\n",
        "    insights.append(f\"- **Risk Level:** {risk_level}\\n\")\n",
        "\n",
        "    current_trend = df['Trend'].iloc[-1]\n",
        "    current_rsi = df['RSI'].iloc[-1]\n",
        "    insights.append(\"## 📈 Current Market Status\\n\")\n",
        "    insights.append(f\"- **Current Trend:** {current_trend}\")\n",
        "    insights.append(f\"- **RSI:** {current_rsi:.2f}\")\n",
        "\n",
        "    if current_rsi > 70:\n",
        "        insights.append(\"- **Signal:** ⚠️ Overbought\")\n",
        "    elif current_rsi < 30:\n",
        "        insights.append(\"- **Signal:** ⚠️ Oversold\")\n",
        "    else:\n",
        "        insights.append(\"- **Signal:** ✅ Neutral\\n\")\n",
        "\n",
        "    insights.append(\"## 🤖 Model Accuracy\\n\")\n",
        "    insights.append(f\"- **LSTM RMSE:** {lstm_test_rmse:.4f}\")\n",
        "    insights.append(f\"- **LSTM R² Score:** {lstm_test_r2:.4f}\\n\")\n",
        "    insights.append(\"⚠️ **Disclaimer:** Educational purposes only.\")\n",
        "\n",
        "    return \"\\n\".join(insights)"
      ]
    },
    {
      "cell_type": "code",
      "execution_count": 13,
      "metadata": {
        "id": "dnZ5oN16BAiu"
      },
      "outputs": [],
      "source": [
        "# Gradio Interface Functions\n",
        "def gradio_predict_price(days):\n",
        "    last_sequence = X_lstm[-1]\n",
        "    predictions = predict_future_prices(lstm_model, last_sequence, scaler_y, days=int(days))\n",
        "\n",
        "    last_date = df_clean['Date'].iloc[-1]\n",
        "    future_dates = pd.date_range(start=last_date + timedelta(days=1), periods=int(days), freq='D')\n",
        "\n",
        "    fig = go.Figure()\n",
        "    historical = df_clean.tail(60)\n",
        "    fig.add_trace(go.Scatter(x=historical['Date'], y=historical['Close'], name='Historical', line=dict(color='blue', width=2)))\n",
        "    fig.add_trace(go.Scatter(x=future_dates, y=predictions.flatten(), name='Predicted', line=dict(color='red', width=2, dash='dash')))\n",
        "    fig.update_layout(title=f'Stock Price Prediction - Next {int(days)} Days', xaxis_title='Date', yaxis_title='Price', height=500)\n",
        "\n",
        "    current_price = df_clean['Close'].iloc[-1]\n",
        "    predicted_final = predictions[-1][0]\n",
        "    price_change = predicted_final - current_price\n",
        "    percent_change = (price_change / current_price) * 100\n",
        "\n",
        "    summary = f\"\"\"## 📊 Prediction Summary\\n\\n- **Current Price:** ₹{current_price:.2f}\\n- **Predicted Price (Day {int(days)}):** ₹{predicted_final:.2f}\\n- **Expected Change:** ₹{price_change:.2f} ({percent_change:+.2f}%)\\n- **Trend:** {'📈 Bullish' if price_change > 0 else '📉 Bearish'}\"\"\"\n",
        "\n",
        "    return fig, summary\n",
        "\n",
        "def gradio_technical_analysis():\n",
        "    latest = df.iloc[-1]\n",
        "    analysis = f\"\"\"## 📈 Current Technical Indicators\\n\\n- **RSI:** {latest['RSI']:.2f}\\n- **MACD:** {latest['MACD']:.4f}\\n- **Volatility:** {latest['Volatility']:.4f}\\n- **Trend:** {latest['Trend']}\"\"\"\n",
        "    return analysis\n",
        "\n",
        "def gradio_show_insights():\n",
        "    return generate_insights(df)"
      ]
    },
    {
      "cell_type": "code",
      "execution_count": 14,
      "metadata": {
        "colab": {
          "base_uri": "https://localhost:8080/",
          "height": 611
        },
        "id": "hNd1iOnmBAiu",
        "outputId": "1ecb3a18-d117-4d0a-d50a-9862ea2fd134"
      },
      "outputs": [
        {
          "output_type": "stream",
          "name": "stdout",
          "text": [
            "Colab notebook detected. To show errors in colab notebook, set debug=True in launch()\n",
            "* Running on public URL: https://6dc75a093fc868c261.gradio.live\n",
            "\n",
            "This share link expires in 1 week. For free permanent hosting and GPU upgrades, run `gradio deploy` from the terminal in the working directory to deploy to Hugging Face Spaces (https://huggingface.co/spaces)\n"
          ]
        },
        {
          "output_type": "display_data",
          "data": {
            "text/plain": [
              "<IPython.core.display.HTML object>"
            ],
            "text/html": [
              "<div><iframe src=\"https://6dc75a093fc868c261.gradio.live\" width=\"100%\" height=\"500\" allow=\"autoplay; camera; microphone; clipboard-read; clipboard-write;\" frameborder=\"0\" allowfullscreen></iframe></div>"
            ]
          },
          "metadata": {}
        },
        {
          "output_type": "execute_result",
          "data": {
            "text/plain": []
          },
          "metadata": {},
          "execution_count": 14
        }
      ],
      "source": [
        "# Create Gradio Interface\n",
        "with gr.Blocks(title=\"Stock Market Analysis\", theme=gr.themes.Soft()) as demo:\n",
        "    gr.Markdown(\"# 📈 Indian Stock Market Analysis & Prediction System\\n## Stock: 717503.BO (2014-2020)\")\n",
        "\n",
        "    with gr.Tabs():\n",
        "        with gr.Tab(\"🔮 Price Prediction\"):\n",
        "            gr.Markdown(\"### Predict Future Stock Prices\")\n",
        "            with gr.Row():\n",
        "                days_input = gr.Slider(minimum=7, maximum=90, value=30, step=1, label=\"Prediction Days\")\n",
        "                predict_btn = gr.Button(\"Predict\", variant=\"primary\")\n",
        "            prediction_plot = gr.Plot(label=\"Price Prediction Chart\")\n",
        "            prediction_summary = gr.Markdown()\n",
        "            predict_btn.click(fn=gradio_predict_price, inputs=[days_input], outputs=[prediction_plot, prediction_summary])\n",
        "\n",
        "        with gr.Tab(\"📊 Technical Analysis\"):\n",
        "            gr.Markdown(\"### Technical Indicators\")\n",
        "            analyze_btn = gr.Button(\"Analyze\", variant=\"primary\")\n",
        "            technical_summary = gr.Markdown()\n",
        "            analyze_btn.click(fn=gradio_technical_analysis, inputs=[], outputs=[technical_summary])\n",
        "\n",
        "        with gr.Tab(\"💡 Key Insights & Recommendations\"):\n",
        "            gr.Markdown(\"### Comprehensive Market Analysis\")\n",
        "            insights_btn = gr.Button(\"Generate Insights\", variant=\"primary\")\n",
        "            insights_output = gr.Markdown()\n",
        "            insights_btn.click(fn=gradio_show_insights, inputs=[], outputs=[insights_output])\n",
        "\n",
        "    gr.Markdown(\"---\\n⚠️ **Disclaimer:** For educational purposes only. Not financial advice.\")\n",
        "\n",
        "demo.launch(share=True, debug=False)"
      ]
    }
  ],
  "metadata": {
    "kernelspec": {
      "display_name": "Python 3",
      "language": "python",
      "name": "python3"
    },
    "language_info": {
      "codemirror_mode": {
        "name": "ipython",
        "version": 3
      },
      "file_extension": ".py",
      "mimetype": "text/x-python",
      "name": "python",
      "nbconvert_exporter": "python",
      "pygments_lexer": "ipython3",
      "version": "3.8.0"
    },
    "colab": {
      "provenance": []
    }
  },
  "nbformat": 4,
  "nbformat_minor": 0
}